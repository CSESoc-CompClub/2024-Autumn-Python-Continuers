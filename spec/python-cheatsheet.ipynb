{
 "cells": [
  {
   "cell_type": "markdown",
   "metadata": {},
   "source": [
    "# **Python Cheatsheet**\n",
    "\n",
    "This file contais all the syntax and use cases of Python operators and built-in functions. Coded by the best portofolio there is, (W)Internals!\n",
    "\n",
    "## *How to use the Jupyter Notebook*\n",
    "\n",
    "In a Jupyter Notebook file, codes are segmented into blocks so they are easier to view and debug.\n",
    "To execute blocks of code, press the 'play' button on the left side of each corresponding code block.\n",
    "\n",
    "![run_code](./images/run_code.png)\n",
    "\n",
    "The output of the code block will be displayed directly on the bottom of the code block.\n",
    "\n",
    "![code_output](./images/output.png)\n",
    "\n",
    "Try running the code block below to familiarize yourself with the setup!"
   ]
  },
  {
   "cell_type": "code",
   "execution_count": 1,
   "metadata": {},
   "outputs": [
    {
     "name": "stdout",
     "output_type": "stream",
     "text": [
      "This code was printed in a Jupyter Notebook code block!\n",
      "Congrats! You are now familiar with Jupyter Notebook\n"
     ]
    }
   ],
   "source": [
    "print('This code was printed in a Jupyter Notebook code block!')\n",
    "print('Congrats! You are now familiar with Jupyter Notebook')"
   ]
  },
  {
   "cell_type": "markdown",
   "metadata": {},
   "source": [
    "## ***Printing in Python***\n",
    "\n",
    "To start printing lines of text in Python, follow the syntax as presented in the code block! Note that the string 'Hello World' can be changed to what ever string you like.\n"
   ]
  },
  {
   "cell_type": "code",
   "execution_count": 2,
   "metadata": {},
   "outputs": [
    {
     "name": "stdout",
     "output_type": "stream",
     "text": [
      "Hello World\n"
     ]
    }
   ],
   "source": [
    "print('Hello World')"
   ]
  },
  {
   "cell_type": "markdown",
   "metadata": {},
   "source": [
    "## ***Comments***\n",
    "\n",
    "To start commenting in your code, use the `#` symbol to mark which lines or sections of code is commented out. Remember that we can either comment and entire line or just sections of it!\n",
    "\n",
    "TIP: A shortcut to comment out an entire line of code is by using the `ctrl + /` keys on Windows/Linux or `command + /` in Mac"
   ]
  },
  {
   "cell_type": "code",
   "execution_count": 3,
   "metadata": {},
   "outputs": [
    {
     "name": "stdout",
     "output_type": "stream",
     "text": [
      "This should be printed\n",
      "This should also be printed\n"
     ]
    }
   ],
   "source": [
    "print('This should be printed')\n",
    "print('This should also be printed') # This line will still be printed\n",
    "# print('This should NOT be printed')"
   ]
  },
  {
   "cell_type": "markdown",
   "metadata": {},
   "source": [
    "## ***Variables***\n",
    "\n",
    "To declare a variable, simply type in the variable name, followed by the `=` symbol and then the value that variable will hold. Remember that variables can only store one data and thus can be reassigned and be mutated through operators!\n",
    "\n",
    "Remember that we can typecast variables into another type. (e.g. We can typecast an integer variable into a character variable)"
   ]
  },
  {
   "cell_type": "code",
   "execution_count": 4,
   "metadata": {},
   "outputs": [
    {
     "name": "stdout",
     "output_type": "stream",
     "text": [
      "num1: \n",
      "10\n",
      "num2: \n",
      "20.0\n",
      "num3: \n",
      "30.0\n"
     ]
    }
   ],
   "source": [
    "num1 = 10\n",
    "num2 = 20.0\n",
    "print('num1: ')\n",
    "print(num1)\n",
    "print('num2: ')\n",
    "print(num2)\n",
    "num3 = num1 + num2\n",
    "print('num3: ')\n",
    "print(num3)"
   ]
  },
  {
   "cell_type": "code",
   "execution_count": 5,
   "metadata": {},
   "outputs": [
    {
     "name": "stdout",
     "output_type": "stream",
     "text": [
      "a\n",
      "b\n",
      "z\n"
     ]
    }
   ],
   "source": [
    "char1 = 'a'\n",
    "char2 = 'b'\n",
    "print(char1)\n",
    "print(char2)\n",
    "char1 = 'z'\n",
    "print(char1)"
   ]
  },
  {
   "cell_type": "code",
   "execution_count": 6,
   "metadata": {},
   "outputs": [
    {
     "name": "stdout",
     "output_type": "stream",
     "text": [
      "<class 'int'>\n",
      "<class 'str'>\n"
     ]
    }
   ],
   "source": [
    "numToChar = 10\n",
    "print(type(numToChar))\n",
    "numToChar = str(numToChar)\n",
    "print(type(numToChar))"
   ]
  },
  {
   "cell_type": "markdown",
   "metadata": {},
   "source": [
    "## ***Operators***\n",
    "\n",
    "Python has some built in math operators you can use!"
   ]
  },
  {
   "cell_type": "code",
   "execution_count": 7,
   "metadata": {},
   "outputs": [
    {
     "name": "stdout",
     "output_type": "stream",
     "text": [
      "20\n",
      "0\n",
      "100\n",
      "1.0\n",
      "0\n"
     ]
    }
   ],
   "source": [
    "print(10 + 10) # addition\n",
    "print(10 - 10) # subtraction\n",
    "print(10 * 10) # multiplication\n",
    "print(10 / 10) # division\n",
    "print(10 % 10) # modulo operation"
   ]
  },
  {
   "cell_type": "markdown",
   "metadata": {},
   "source": [
    "## ***Strings***\n",
    "\n",
    "In Python, strings act like a collection of characters. Strings are defined the same way we define characters, by encasing the text we want in either `''` or `\"\"`.\n",
    "\n",
    "Remember, we can reference a specific character within a string by giving its index value! Note that we cannot change the value of strings once they are defined!"
   ]
  },
  {
   "cell_type": "code",
   "execution_count": 8,
   "metadata": {},
   "outputs": [
    {
     "name": "stdout",
     "output_type": "stream",
     "text": [
      "Hello World\n",
      "H\n"
     ]
    }
   ],
   "source": [
    "myString = 'Hello World'\n",
    "print(myString)\n",
    "print(myString[0])\n",
    "\n",
    "# Running the code below will cause an error!\n",
    "#####################\n",
    "# myString[0] = 'J' \n",
    "# print(myString)\n",
    "#####################"
   ]
  },
  {
   "cell_type": "markdown",
   "metadata": {},
   "source": [
    "## ***Getting User Inputs***\n",
    "\n",
    "Similar to print, simply type `input(<Input Prompt>)`. Then, the input obtained can be stored within a variable\n",
    "\n",
    "> Note: Usually, asking for an input will ask user prompts through the terminal. However, since we are using a notebook file, the input field should appear on the top of the screen."
   ]
  },
  {
   "cell_type": "code",
   "execution_count": 9,
   "metadata": {},
   "outputs": [
    {
     "name": "stdout",
     "output_type": "stream",
     "text": [
      "Your number is: 4\n"
     ]
    }
   ],
   "source": [
    "myNumber = input('Give me a number: ')\n",
    "print('Your number is: ' + str(myNumber))"
   ]
  },
  {
   "cell_type": "markdown",
   "metadata": {},
   "source": [
    "## ***If/Else***\n",
    "\n",
    "If else statements can be used to indicate certain conditions that must be met to run a certain block of code.\n",
    "\n",
    "An easy way to read this is `if` \\<condition> is met, do this, `else` do that instead. You can also include `elif` clauses to indicate another possible condition. \n",
    "\n",
    "Remember that the program will run the block that is passed first."
   ]
  },
  {
   "cell_type": "code",
   "execution_count": 10,
   "metadata": {},
   "outputs": [
    {
     "name": "stdout",
     "output_type": "stream",
     "text": [
      "This number is divisible by 5\n"
     ]
    }
   ],
   "source": [
    "number = 10\n",
    "\n",
    "if (number % 5 == 0):\n",
    "  print('This number is divisible by 5')\n",
    "elif (number % 2 == 0):\n",
    "  print('This number is even!')\n",
    "  # Note that this block will not run since the previous condition is met.\n",
    "else:\n",
    "  print('This number is not divisible by 5 and is not even')"
   ]
  },
  {
   "cell_type": "markdown",
   "metadata": {},
   "source": [
    "## ***While Loops***\n",
    "\n",
    "Loops can be used to iterate through different data structures. While loops simply entail giving a condition, while that conditions is met, the loop will keep on looping!\n",
    "\n",
    "Remember to include a counter so that the loop will not run forever!"
   ]
  },
  {
   "cell_type": "code",
   "execution_count": 11,
   "metadata": {},
   "outputs": [
    {
     "name": "stdout",
     "output_type": "stream",
     "text": [
      "Jump\n",
      "Jump\n",
      "Jump\n",
      "Jump\n",
      "Jump\n",
      "Jump\n",
      "Jump\n",
      "Jump\n",
      "Jump\n",
      "Jump\n"
     ]
    }
   ],
   "source": [
    "counter = 0\n",
    "while(counter < 10):\n",
    "  print('Jump')\n",
    "  counter += 1"
   ]
  },
  {
   "cell_type": "markdown",
   "metadata": {},
   "source": [
    "This simple block of code can be simply read as:\n",
    "\n",
    "While `counter` is less than 10, keep 'jumping', but for every jump, increase the value of `counter` by 1"
   ]
  },
  {
   "cell_type": "markdown",
   "metadata": {},
   "source": [
    "## ***For Loops***\n",
    "\n",
    "For loops are similar to *While* loops, the only difference is in their syntax. Do note that in advanced programs, *While* loops and *For* loops each have their own benefits, but we will not cover all of them within this workshop. Feel free to research on your own though!"
   ]
  },
  {
   "cell_type": "code",
   "execution_count": 12,
   "metadata": {},
   "outputs": [
    {
     "name": "stdout",
     "output_type": "stream",
     "text": [
      "Jump\n",
      "Jump\n",
      "Jump\n",
      "Jump\n",
      "Jump\n"
     ]
    }
   ],
   "source": [
    "for x in range(5):\n",
    "  print('Jump')"
   ]
  },
  {
   "cell_type": "markdown",
   "metadata": {},
   "source": [
    "One benefit we can show is that it is usually simpler to loop through lists (covered below) by using a *For* loop.\n",
    "\n",
    "For our example below, remember that the counter variable `subject` can be named anything. Try changing the variable name to see if any differences happen! "
   ]
  },
  {
   "cell_type": "code",
   "execution_count": 13,
   "metadata": {},
   "outputs": [
    {
     "name": "stdout",
     "output_type": "stream",
     "text": [
      "Maths\n",
      "Biology\n",
      "Chemistry\n",
      "Physics\n",
      "Economics\n",
      "Business\n"
     ]
    }
   ],
   "source": [
    "subjects = ['Maths', 'Biology', 'Chemistry', 'Physics', 'Economics', 'Business']\n",
    "for subject in subjects:\n",
    "  print(subject)"
   ]
  },
  {
   "cell_type": "markdown",
   "metadata": {},
   "source": [
    "## ***Lists***\n",
    "\n",
    "Variables in Python can also store *Lists*. They basically act like variables that contain variables. One thing cool about lists is that they can store various data types and are indexed!\n",
    "\n",
    "Look below for demos!"
   ]
  },
  {
   "cell_type": "code",
   "execution_count": 14,
   "metadata": {},
   "outputs": [
    {
     "name": "stdout",
     "output_type": "stream",
     "text": [
      "Golden Retriever\n",
      "7\n"
     ]
    }
   ],
   "source": [
    "dogs = ['Golden Retriever', 'Husky', 'Poodle', 'Tibetian Mastiff', 7]\n",
    "print(dogs[0])\n",
    "print(dogs[4])"
   ]
  },
  {
   "cell_type": "markdown",
   "metadata": {},
   "source": [
    "## ***Dictionaries***\n",
    "\n",
    "Dictionaries are like *Lists*, however, instead of indexes, they are arranged by **key value** pairs. To create a dictionary, follow the code below."
   ]
  },
  {
   "cell_type": "code",
   "execution_count": 15,
   "metadata": {},
   "outputs": [],
   "source": [
    "myDictionary = {\n",
    "  'name': 'Jack Liu'\n",
    "}"
   ]
  },
  {
   "cell_type": "markdown",
   "metadata": {},
   "source": [
    "Python provides multiple methods to manipulate data within a dictionary, here we list several methods that can be useful. Note that there are more methods available as we cannot cover everything in the workshop. Feel free to research on your own regarding other methods!"
   ]
  },
  {
   "cell_type": "code",
   "execution_count": 16,
   "metadata": {},
   "outputs": [
    {
     "name": "stdout",
     "output_type": "stream",
     "text": [
      "Jack Liu\n",
      "{'name': 'Jack Liu', 'age': 45}\n",
      "{'name': 'Jack Liu', 'age': 54}\n",
      "dict_keys(['name', 'age'])\n",
      "dict_values(['Jack Liu', 54])\n",
      "{'name': 'Jack Liu'}\n",
      "{}\n"
     ]
    }
   ],
   "source": [
    "name = myDictionary.get('name')\n",
    "print(name)\n",
    "\n",
    "# Adds the age item\n",
    "myDictionary['age'] = 45\n",
    "print(myDictionary)\n",
    "\n",
    "# Updates the age item\n",
    "myDictionary.update({'age': 54})\n",
    "print(myDictionary)\n",
    "\n",
    "# Returns all the keys within the dictionary\n",
    "print(myDictionary.keys())\n",
    "# Returns all the values within the dictionary\n",
    "print(myDictionary.values())\n",
    "\n",
    "# Removes the specified item from the dictionary\n",
    "myDictionary.pop('age')\n",
    "print(myDictionary)\n",
    "\n",
    "# Empties the entire dictionary\n",
    "myDictionary.clear()\n",
    "print(myDictionary)\n"
   ]
  },
  {
   "cell_type": "markdown",
   "metadata": {},
   "source": [
    "## ***Functions***\n",
    "\n",
    "Functions act to simplify and 'automate' certain blocks of code that are often repeated. To define a function, simply use `def` followed by its parameters and then `:`"
   ]
  },
  {
   "cell_type": "code",
   "execution_count": 17,
   "metadata": {},
   "outputs": [
    {
     "name": "stdout",
     "output_type": "stream",
     "text": [
      "Hi, my name is Franklin!\n"
     ]
    }
   ],
   "source": [
    "def myPrint(item):\n",
    "  print(item)\n",
    "  \n",
    "myPrint('Hi, my name is Franklin!')"
   ]
  },
  {
   "cell_type": "markdown",
   "metadata": {},
   "source": [
    "Functions can also return data."
   ]
  },
  {
   "cell_type": "code",
   "execution_count": 18,
   "metadata": {},
   "outputs": [
    {
     "name": "stdout",
     "output_type": "stream",
     "text": [
      "4\n"
     ]
    }
   ],
   "source": [
    "def findNumberOfChar(string, char):\n",
    "  counter = 0\n",
    "  for character in string:\n",
    "    if (character == char): \n",
    "      counter += 1\n",
    "  return counter\n",
    "\n",
    "sampleString = \"This is just a test!\"\n",
    "# The sample string above contains exactly 4 instances of the character 's'\n",
    "print(findNumberOfChar(sampleString, 's'))"
   ]
  },
  {
   "cell_type": "markdown",
   "metadata": {},
   "source": [
    "## ***Reading from Files***\n",
    "\n",
    "Besides regular numbers and simple data types, variables can also open and close files!"
   ]
  },
  {
   "cell_type": "code",
   "execution_count": 19,
   "metadata": {},
   "outputs": [],
   "source": [
    "myNote = open('text.txt', 'w')\n",
    "myNote.write('This part is added!')\n",
    "myNote.close()\n",
    "# Remember that when writing, we overwrite the entire previous content of the file.\n",
    "# To append to a file, use the 'a' method instead of 'w'. "
   ]
  },
  {
   "cell_type": "code",
   "execution_count": 20,
   "metadata": {},
   "outputs": [
    {
     "name": "stdout",
     "output_type": "stream",
     "text": [
      "Thi\n",
      "s part is added!\n"
     ]
    }
   ],
   "source": [
    "myNote = open('text.txt', 'r')\n",
    "content = myNote.read(3)\n",
    "print(content)\n",
    "content = myNote.readline()\n",
    "print(content)\n",
    "myNote.close()"
   ]
  }
 ],
 "metadata": {
  "kernelspec": {
   "display_name": "Python 3",
   "language": "python",
   "name": "python3"
  },
  "language_info": {
   "codemirror_mode": {
    "name": "ipython",
    "version": 3
   },
   "file_extension": ".py",
   "mimetype": "text/x-python",
   "name": "python",
   "nbconvert_exporter": "python",
   "pygments_lexer": "ipython3",
   "version": "3.11.4"
  }
 },
 "nbformat": 4,
 "nbformat_minor": 2
}
